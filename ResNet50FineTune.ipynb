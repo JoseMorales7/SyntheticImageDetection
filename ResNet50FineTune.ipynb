{
 "cells": [
  {
   "cell_type": "code",
   "execution_count": 1,
   "metadata": {},
   "outputs": [],
   "source": [
    "import torchvision\n",
    "from torchvision import models\n",
    "from torchvision.transforms import transforms\n",
    "from tqdm import tqdm\n",
    "import torch\n",
    "import ImageData\n",
    "import numpy as np\n",
    "device = torch.device(\"cuda\" if torch.cuda.is_available() else \"cpu\")\n",
    "import time\n",
    "import random"
   ]
  },
  {
   "cell_type": "code",
   "execution_count": 2,
   "metadata": {},
   "outputs": [],
   "source": [
    "model_name = \"resnet50\"\n",
    "model_image_size = 224\n",
    "random.seed(42)\n",
    "\n",
    "# vit = models.vit_l_16(models.ViT_L_16_Weights.IMAGENET1K_V1)"
   ]
  },
  {
   "cell_type": "code",
   "execution_count": 3,
   "metadata": {},
   "outputs": [],
   "source": [
    "class ResNet(torch.nn.Module):\n",
    "    def __init__(self, numClasses: int, softmax:bool = True):\n",
    "        super(ResNet, self).__init__()\n",
    "\n",
    "        self.resnet = torchvision.models.resnet50(weights='DEFAULT')\n",
    "        for param in list(self.resnet.parameters())[:-1]:\n",
    "            param.requires_grad = True\n",
    "\n",
    "        self.resnet.fc = torch.nn.Sequential(\n",
    "            torch.nn.Linear(2048, 512),\n",
    "            torch.nn.ReLU(),\n",
    "            torch.nn.Linear(512, 216),\n",
    "            torch.nn.ReLU(),\n",
    "            torch.nn.Linear(216, 4)\n",
    "        )\n",
    "        \n",
    "        \n",
    "        # for param in self.inceptionBase.parameters():\n",
    "        #     print(param.requires_grad)\n",
    "\n",
    "        self.softmax = torch.nn.Softmax(dim=-1)\n",
    "\n",
    "    def forward(self, x):\n",
    "        out = self.resnet(x)\n",
    "        return out"
   ]
  },
  {
   "cell_type": "code",
   "execution_count": 4,
   "metadata": {},
   "outputs": [],
   "source": [
    "model = ResNet(4).to(device)\n",
    "# print(*list(model.children())[:-1])"
   ]
  },
  {
   "cell_type": "code",
   "execution_count": 5,
   "metadata": {},
   "outputs": [],
   "source": [
    "# Loss and optimizer\n",
    "criterion = torch.nn.CrossEntropyLoss()\n",
    "optimizer = torch.optim.Adam(model.parameters(), lr=0.0001)"
   ]
  },
  {
   "cell_type": "code",
   "execution_count": 6,
   "metadata": {},
   "outputs": [],
   "source": [
    "batch_size = 16\n",
    "transform = transforms.Compose([transforms.ToTensor(), \n",
    "                                transforms.RandomResizedCrop(size=(model_image_size, model_image_size), antialias=True), \n",
    "                                transforms.Normalize((0.5, 0.5, 0.5), (0.5, 0.5, 0.5))])\n",
    "trainDataLoader, validDataLoader, testDataLoader, unseenDataLoader = ImageData.getImagesDataloaders(\"./ArtiFact/\", transforms = transform, batchSize=batch_size)"
   ]
  },
  {
   "cell_type": "code",
   "execution_count": 7,
   "metadata": {},
   "outputs": [],
   "source": [
    "def evaluate_on_data(model, dataloader, dirty: bool = False):\n",
    "    criterion = torch.nn.CrossEntropyLoss()\n",
    "    with torch.no_grad():\n",
    "        total_loss = 0\n",
    "        \n",
    "        num_correct = 0.0\n",
    "        num_correct_dirty = 0.0\n",
    "\n",
    "        num_samples = 0.0\n",
    "        for data in tqdm(dataloader, desc=\"Eval: \"):\n",
    "            image, label = data\n",
    "            label = label.to(device)\n",
    "            image = image.to(device)\n",
    "            outputs = model(image)\n",
    "            \n",
    "            dirtyLabel = torch.where(label > 1, torch.tensor(1, dtype = torch.int32).to(device), label)\n",
    "\n",
    "            \n",
    "            \n",
    "            loss = criterion(outputs, label)\n",
    "            total_loss += loss.item()\n",
    "            argMax = torch.argmax(outputs, 1)\n",
    "\n",
    "            # print(\"pred\")\n",
    "            # print(outputs)\n",
    "            # print(argMax)\n",
    "            # print(\"gt\")\n",
    "            # print(label)\n",
    "            for i in range(len(label)):\n",
    "                \n",
    "                if label[i] == argMax[i]:\n",
    "                    num_correct += 1\n",
    "\n",
    "                if (dirtyLabel[i] == argMax[i]) or (dirtyLabel[i] == 1 and argMax[i] > 0):\n",
    "                    num_correct_dirty += 1\n",
    "\n",
    "                num_samples += 1\n",
    "                    \n",
    "                \n",
    "                \n",
    "    return total_loss / len(dataloader), num_correct / num_samples, num_correct_dirty / num_samples"
   ]
  },
  {
   "cell_type": "code",
   "execution_count": 8,
   "metadata": {},
   "outputs": [
    {
     "name": "stderr",
     "output_type": "stream",
     "text": [
      "Training: 100%|██████████| 117403/117403 [1:56:13<00:00, 16.84it/s] \n",
      "Eval: 100%|██████████| 6180/6180 [07:14<00:00, 14.22it/s]\n"
     ]
    },
    {
     "name": "stdout",
     "output_type": "stream",
     "text": [
      "Epoch [1/10], Training Loss: 0.7142, Valid Loss: 0.3239264143442488, Valid ACC: 0.8794501982361033, Dirty Valid ACC: 0.9012460555061089\n"
     ]
    },
    {
     "name": "stderr",
     "output_type": "stream",
     "text": [
      "Training: 100%|██████████| 117403/117403 [1:44:30<00:00, 18.72it/s]\n",
      "Eval: 100%|██████████| 6180/6180 [06:24<00:00, 16.07it/s]\n"
     ]
    },
    {
     "name": "stdout",
     "output_type": "stream",
     "text": [
      "Epoch [2/10], Training Loss: 0.2070, Valid Loss: 0.2781158183335137, Valid ACC: 0.8973015616150174, Dirty Valid ACC: 0.9199267740108423\n"
     ]
    },
    {
     "name": "stderr",
     "output_type": "stream",
     "text": [
      "Training: 100%|██████████| 117403/117403 [1:42:04<00:00, 19.17it/s]\n",
      "Eval: 100%|██████████| 6180/6180 [06:08<00:00, 16.75it/s]\n"
     ]
    },
    {
     "name": "stdout",
     "output_type": "stream",
     "text": [
      "Epoch [3/10], Training Loss: 0.3288, Valid Loss: 0.24644410625901858, Valid ACC: 0.9100250829355125, Dirty Valid ACC: 0.9297981228254714\n"
     ]
    },
    {
     "name": "stderr",
     "output_type": "stream",
     "text": [
      "Training: 100%|██████████| 117403/117403 [1:40:45<00:00, 19.42it/s]\n",
      "Eval: 100%|██████████| 6180/6180 [05:57<00:00, 17.31it/s]\n"
     ]
    },
    {
     "name": "stdout",
     "output_type": "stream",
     "text": [
      "Epoch [4/10], Training Loss: 0.6712, Valid Loss: 0.2278842770726598, Valid ACC: 0.9173173395905818, Dirty Valid ACC: 0.9361902257464196\n"
     ]
    },
    {
     "name": "stderr",
     "output_type": "stream",
     "text": [
      "Training: 100%|██████████| 117403/117403 [1:39:41<00:00, 19.63it/s] \n",
      "Eval: 100%|██████████| 6180/6180 [05:57<00:00, 17.29it/s]\n"
     ]
    },
    {
     "name": "stdout",
     "output_type": "stream",
     "text": [
      "Epoch [5/10], Training Loss: 0.0691, Valid Loss: 0.2181969539843866, Valid ACC: 0.9209988672222672, Dirty Valid ACC: 0.9385063516465734\n"
     ]
    },
    {
     "name": "stderr",
     "output_type": "stream",
     "text": [
      "Training: 100%|██████████| 117403/117403 [1:42:32<00:00, 19.08it/s] \n",
      "Eval: 100%|██████████| 6180/6180 [06:13<00:00, 16.56it/s]\n"
     ]
    },
    {
     "name": "stdout",
     "output_type": "stream",
     "text": [
      "Epoch [6/10], Training Loss: 2.2811, Valid Loss: 0.2111632143704124, Valid ACC: 0.9233554494700218, Dirty Valid ACC: 0.9399830083340076\n"
     ]
    },
    {
     "name": "stderr",
     "output_type": "stream",
     "text": [
      "Training: 100%|██████████| 117403/117403 [1:42:50<00:00, 19.03it/s] \n",
      "Eval: 100%|██████████| 6180/6180 [05:58<00:00, 17.23it/s]\n"
     ]
    },
    {
     "name": "stdout",
     "output_type": "stream",
     "text": [
      "Epoch [7/10], Training Loss: 0.1599, Valid Loss: 0.20070686917450628, Valid ACC: 0.9260963670199854, Dirty Valid ACC: 0.9429262076219759\n"
     ]
    },
    {
     "name": "stderr",
     "output_type": "stream",
     "text": [
      "Training: 100%|██████████| 117403/117403 [1:44:14<00:00, 18.77it/s]\n",
      "Eval: 100%|██████████| 6180/6180 [06:14<00:00, 16.51it/s]\n"
     ]
    },
    {
     "name": "stdout",
     "output_type": "stream",
     "text": [
      "Epoch [8/10], Training Loss: 0.1043, Valid Loss: 0.1928787387203362, Valid ACC: 0.9305263370822882, Dirty Valid ACC: 0.9464155676025569\n"
     ]
    },
    {
     "name": "stderr",
     "output_type": "stream",
     "text": [
      "Training: 100%|██████████| 117403/117403 [1:41:53<00:00, 19.20it/s] \n",
      "Eval: 100%|██████████| 6180/6180 [05:58<00:00, 17.24it/s]\n"
     ]
    },
    {
     "name": "stdout",
     "output_type": "stream",
     "text": [
      "Epoch [9/10], Training Loss: 0.6047, Valid Loss: 0.18977794440658718, Valid ACC: 0.931679342988915, Dirty Valid ACC: 0.9469617282951696\n"
     ]
    },
    {
     "name": "stderr",
     "output_type": "stream",
     "text": [
      "Training: 100%|██████████| 117403/117403 [1:40:07<00:00, 19.54it/s]\n",
      "Eval: 100%|██████████| 6180/6180 [05:57<00:00, 17.28it/s]"
     ]
    },
    {
     "name": "stdout",
     "output_type": "stream",
     "text": [
      "Epoch [10/10], Training Loss: 0.1822, Valid Loss: 0.1841884283706264, Valid ACC: 0.933105429241848, Dirty Valid ACC: 0.9488935188931144\n"
     ]
    },
    {
     "name": "stderr",
     "output_type": "stream",
     "text": [
      "\n"
     ]
    }
   ],
   "source": [
    "num_epochs = 10\n",
    "count = 0\n",
    "valid_loss_array = np.zeros(num_epochs)\n",
    "valid_acc_array = np.zeros(num_epochs)\n",
    "valid_acc_dirty_array = np.zeros(num_epochs)\n",
    "\n",
    "train_loss_array = np.zeros(num_epochs)\n",
    "for epoch in range(num_epochs):\n",
    "    batch_count = 0\n",
    "    for data in tqdm(trainDataLoader, desc=\"Training: \"):\n",
    "        \n",
    "        image, label = data\n",
    "        \n",
    "        label = label.to(device)\n",
    "        image = image.to(device)\n",
    "\n",
    "        optimizer.zero_grad()\n",
    "        outputs = model(image)\n",
    "        loss = criterion(outputs, label)\n",
    "        loss.backward()\n",
    "        optimizer.step()\n",
    "          \n",
    "        count += 1\n",
    "        # print(loss)\n",
    "            \n",
    "        \n",
    "    valid_loss, valid_acc, valid_acc_dirty = evaluate_on_data(model, validDataLoader)\n",
    "\n",
    "    print(f'Epoch [{epoch+1}/{num_epochs}], Training Loss: {loss.item():.4f}, Valid Loss: {valid_loss}, Valid ACC: {valid_acc}, Dirty Valid ACC: {valid_acc_dirty}')\n",
    "    valid_loss_array[epoch] = valid_loss\n",
    "    train_loss_array[epoch] = loss.item()\n",
    "    valid_acc_array[epoch] = valid_acc\n",
    "    valid_acc_dirty_array[epoch] = valid_acc_dirty\n"
   ]
  },
  {
   "cell_type": "code",
   "execution_count": 9,
   "metadata": {},
   "outputs": [],
   "source": [
    "with open(model_name + '_valid_loss.npy', 'wb') as f:\n",
    "    np.save(f, valid_loss_array)\n",
    "    \n",
    "with open(model_name + '_valid_acc.npy', 'wb') as f:\n",
    "    np.save(f, valid_acc_array)\n",
    "\n",
    "with open(model_name + '_valid_dirty_acc.npy', 'wb') as f:\n",
    "    np.save(f, valid_acc_dirty_array)\n",
    "    \n",
    "with open(model_name + '_train.npy', 'wb') as f:\n",
    "    np.save(f, train_loss_array)"
   ]
  },
  {
   "cell_type": "code",
   "execution_count": 10,
   "metadata": {},
   "outputs": [],
   "source": [
    "import matplotlib.pyplot as plt"
   ]
  },
  {
   "cell_type": "code",
   "execution_count": 11,
   "metadata": {},
   "outputs": [
    {
     "data": {
      "text/plain": [
       "[<matplotlib.lines.Line2D at 0x2543b320a90>]"
      ]
     },
     "execution_count": 11,
     "metadata": {},
     "output_type": "execute_result"
    },
    {
     "data": {
      "image/png": "[encoded data removed]",
      "text/plain": [
       "<Figure size 640x480 with 1 Axes>"
      ]
     },
     "metadata": {},
     "output_type": "display_data"
    }
   ],
   "source": [
    "plt.plot(train_loss_array)"
   ]
  },
  {
   "cell_type": "code",
   "execution_count": 12,
   "metadata": {},
   "outputs": [
    {
     "data": {
      "text/plain": [
       "[<matplotlib.lines.Line2D at 0x254400e88d0>]"
      ]
     },
     "execution_count": 12,
     "metadata": {},
     "output_type": "execute_result"
    },
    {
     "data": {
      "image/png": "[encoded data removed]",
      "text/plain": [
       "<Figure size 640x480 with 2 Axes>"
      ]
     },
     "metadata": {},
     "output_type": "display_data"
    }
   ],
   "source": [
    "figure, axis = plt.subplots(1,2)\n",
    "axis[0].plot(valid_loss_array)\n",
    "axis[1].plot(valid_acc_dirty_array)"
   ]
  },
  {
   "cell_type": "code",
   "execution_count": 13,
   "metadata": {},
   "outputs": [
    {
     "name": "stderr",
     "output_type": "stream",
     "text": [
      "Eval: 100%|██████████| 32465/32465 [42:49<00:00, 12.63it/s] "
     ]
    },
    {
     "name": "stdout",
     "output_type": "stream",
     "text": [
      "Test Loss: 0.2620081556869357, Test ACC: 0.9094120659416398, Dirty Test ACC: 0.9424849209420344\n"
     ]
    },
    {
     "name": "stderr",
     "output_type": "stream",
     "text": [
      "\n"
     ]
    }
   ],
   "source": [
    "test_loss, test_acc, test_acc_dirty = evaluate_on_data(model, testDataLoader, dirty=True)\n",
    "print(f'Test Loss: {test_loss}, Test ACC: {test_acc}, Dirty Test ACC: {test_acc_dirty}')"
   ]
  },
  {
   "cell_type": "code",
   "execution_count": 14,
   "metadata": {},
   "outputs": [],
   "source": [
    "torch.save(model.state_dict(), \"Resnet50.pth\")"
   ]
  },
  {
   "cell_type": "code",
   "execution_count": 16,
   "metadata": {},
   "outputs": [
    {
     "name": "stderr",
     "output_type": "stream",
     "text": [
      "Eval: 100%|██████████| 1569/1569 [00:36<00:00, 42.54it/s]"
     ]
    },
    {
     "name": "stdout",
     "output_type": "stream",
     "text": [
      "Unseen Loss: 1.6198746321534108, Unseen ACC: 0.4947401976410583, Dirty Unseen ACC: 0.7452980554670067\n"
     ]
    },
    {
     "name": "stderr",
     "output_type": "stream",
     "text": [
      "\n"
     ]
    }
   ],
   "source": [
    "unseen_loss, unseen_acc, unseen_acc_dirty = evaluate_on_data(model, unseenDataLoader, dirty=True)\n",
    "print(f'Unseen Loss: {unseen_loss}, Unseen ACC: {unseen_acc}, Dirty Unseen ACC: {unseen_acc_dirty}')"
   ]
  }
 ],
 "metadata": {
  "kernelspec": {
   "display_name": "Python 3.11.1 64-bit",
   "language": "python",
   "name": "python3"
  },
  "language_info": {
   "codemirror_mode": {
    "name": "ipython",
    "version": 3
   },
   "file_extension": ".py",
   "mimetype": "text/x-python",
   "name": "python",
   "nbconvert_exporter": "python",
   "pygments_lexer": "ipython3",
   "version": "3.11.9"
  },
  "vscode": {
   "interpreter": {
    "hash": "8907f5995ab74a6cd5df9da2d2bcd12f57f5b23c9c38358337eeb837f01ad676"
   }
  }
 },
 "nbformat": 4,
 "nbformat_minor": 2
}
