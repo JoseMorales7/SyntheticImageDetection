{
 "cells": [
  {
   "cell_type": "code",
   "execution_count": 1,
   "metadata": {},
   "outputs": [],
   "source": [
    "import torchvision\n",
    "from torchvision import models\n",
    "from torchvision.transforms import transforms\n",
    "from tqdm import tqdm\n",
    "import torch\n",
    "import ImageData\n",
    "import numpy as np\n",
    "device = torch.device(\"cuda\" if torch.cuda.is_available() else \"cpu\")\n",
    "import time"
   ]
  },
  {
   "cell_type": "code",
   "execution_count": 2,
   "metadata": {},
   "outputs": [],
   "source": [
    "model_name = \"densenet\"\n",
    "model_image_size = 224\n",
    "# vit = models.vit_l_16(models.ViT_L_16_Weights.IMAGENET1K_V1)"
   ]
  },
  {
   "cell_type": "code",
   "execution_count": 3,
   "metadata": {},
   "outputs": [],
   "source": [
    "class DenseNet(torch.nn.Module):\n",
    "    def __init__(self, numClasses: int, softmax:bool = True):\n",
    "        super(DenseNet, self).__init__()\n",
    "\n",
    "        self.densenetBase = torchvision.models.densenet121(weights='DEFAULT')\n",
    "        self.features = self.densenetBase.features\n",
    "        self.relu = torch.nn.ReLU()\n",
    "        self.avgPool = torch.nn.AdaptiveMaxPool2d((1,1))\n",
    "        self.classifier = torch.nn.Sequential(\n",
    "            torch.nn.Linear(1024, 512),\n",
    "            torch.nn.ReLU(),\n",
    "            torch.nn.Linear(512, 216),\n",
    "            torch.nn.ReLU(),\n",
    "            torch.nn.Linear(216, 4)\n",
    "        )\n",
    "        \n",
    "        for param in list(self.densenetBase.parameters())[:-1]:\n",
    "            param.requires_grad = True\n",
    "        # for param in self.inceptionBase.parameters():\n",
    "        #     print(param.requires_grad)\n",
    "\n",
    "        self.softmax = torch.nn.Softmax(dim=-1)\n",
    "\n",
    "    def forward(self, x):\n",
    "        features = self.features(x)\n",
    "        out = self.relu(features)\n",
    "        out = self.avgPool(out)\n",
    "        out = torch.flatten(out, 1)\n",
    "        out = self.classifier(out)\n",
    "\n",
    "        return out"
   ]
  },
  {
   "cell_type": "code",
   "execution_count": 4,
   "metadata": {},
   "outputs": [],
   "source": [
    "model = DenseNet(4).to(device)\n",
    "# print(*list(model.children())[:-1])"
   ]
  },
  {
   "cell_type": "code",
   "execution_count": 5,
   "metadata": {},
   "outputs": [],
   "source": [
    "# Loss and optimizer\n",
    "criterion = torch.nn.CrossEntropyLoss()\n",
    "optimizer = torch.optim.Adam(model.parameters(), lr=0.001)"
   ]
  },
  {
   "cell_type": "code",
   "execution_count": 6,
   "metadata": {},
   "outputs": [],
   "source": [
    "batch_size = 16\n",
    "transform = transforms.Compose([transforms.ToTensor(), \n",
    "                                transforms.RandomResizedCrop(size=(model_image_size, model_image_size), antialias=True), \n",
    "                                transforms.Normalize((0.5, 0.5, 0.5), (0.5, 0.5, 0.5))])\n",
    "trainDataLoader, validDataLoader, testDataLoader = ImageData.getImagesDataloaders(\"./ArtiFact/\", transforms = transform, batchSize=batch_size)"
   ]
  },
  {
   "cell_type": "code",
   "execution_count": 7,
   "metadata": {},
   "outputs": [],
   "source": [
    "dataset = trainDataLoader.dataset"
   ]
  },
  {
   "cell_type": "code",
   "execution_count": 8,
   "metadata": {},
   "outputs": [],
   "source": [
    "from torch.utils.data import Subset, DataLoader"
   ]
  },
  {
   "cell_type": "code",
   "execution_count": 9,
   "metadata": {},
   "outputs": [],
   "source": [
    "trainSub = Subset(dataset, range(100))"
   ]
  },
  {
   "cell_type": "code",
   "execution_count": 15,
   "metadata": {},
   "outputs": [],
   "source": [
    "trainSubDataloader = DataLoader(trainSub, batch_size=32)"
   ]
  },
  {
   "cell_type": "code",
   "execution_count": 16,
   "metadata": {},
   "outputs": [],
   "source": [
    "def evaluate_on_data(model, dataloader, dirty: bool = False):\n",
    "    criterion = torch.nn.CrossEntropyLoss()\n",
    "    with torch.no_grad():\n",
    "        total_loss = 0\n",
    "        \n",
    "        num_correct = 0.0\n",
    "        num_samples = 0.0\n",
    "        for data in tqdm(dataloader, desc=\"Eval: \"):\n",
    "            image, label = data\n",
    "            label = label.to(device)\n",
    "            image = image.to(device)\n",
    "            outputs = model(image)\n",
    "            loss = criterion(outputs, label)\n",
    "            total_loss += loss.item()\n",
    "\n",
    "            if dirty:\n",
    "                outputs = torch.where(outputs > 1, torch.tensor(1, dtype = torch.int32), outputs)\n",
    "                \n",
    "\n",
    "            argMax = torch.argmax(outputs, 1)\n",
    "            for i in range(len(label)):\n",
    "                if label[i] == argMax[i]:\n",
    "                    num_correct += 1\n",
    "\n",
    "                num_samples += 1\n",
    "                    \n",
    "                \n",
    "                \n",
    "    return total_loss / len(dataloader), num_correct / num_samples"
   ]
  },
  {
   "cell_type": "code",
   "execution_count": 19,
   "metadata": {},
   "outputs": [
    {
     "name": "stderr",
     "output_type": "stream",
     "text": [
      "Training:   0%|          | 26/116172 [00:27<33:39:58,  1.04s/it]\n"
     ]
    },
    {
     "ename": "KeyboardInterrupt",
     "evalue": "",
     "output_type": "error",
     "traceback": [
      "\u001b[1;31m---------------------------------------------------------------------------\u001b[0m",
      "\u001b[1;31mKeyboardInterrupt\u001b[0m                         Traceback (most recent call last)",
      "Cell \u001b[1;32mIn[19], line 15\u001b[0m\n\u001b[0;32m     11\u001b[0m \u001b[38;5;28;01mfor\u001b[39;00m data \u001b[38;5;129;01min\u001b[39;00m tqdm(trainDataLoader, desc\u001b[38;5;241m=\u001b[39m\u001b[38;5;124m\"\u001b[39m\u001b[38;5;124mTraining: \u001b[39m\u001b[38;5;124m\"\u001b[39m):\n\u001b[0;32m     13\u001b[0m     image, label\u001b[38;5;241m=\u001b[39m data\n\u001b[1;32m---> 15\u001b[0m     label \u001b[38;5;241m=\u001b[39m \u001b[43mlabel\u001b[49m\u001b[38;5;241;43m.\u001b[39;49m\u001b[43mto\u001b[49m\u001b[43m(\u001b[49m\u001b[43mdevice\u001b[49m\u001b[43m)\u001b[49m\n\u001b[0;32m     16\u001b[0m     image \u001b[38;5;241m=\u001b[39m image\u001b[38;5;241m.\u001b[39mto(device)\n\u001b[0;32m     18\u001b[0m     optimizer\u001b[38;5;241m.\u001b[39mzero_grad()\n",
      "\u001b[1;31mKeyboardInterrupt\u001b[0m: "
     ]
    }
   ],
   "source": [
    "num_epochs = 15\n",
    "count = 0\n",
    "valid_loss_array = np.zeros(num_epochs)\n",
    "valid_acc_array = np.zeros(num_epochs)\n",
    "valid_loss_dirty_array = np.zeros(num_epochs)\n",
    "valid_acc_dirty_array = np.zeros(num_epochs)\n",
    "\n",
    "train_loss_array = np.zeros(num_epochs)\n",
    "for epoch in range(num_epochs):\n",
    "    batch_count = 0\n",
    "    for data in tqdm(trainDataLoader, desc=\"Training: \"):\n",
    "        \n",
    "        image, label= data\n",
    "        \n",
    "        label = label.to(device)\n",
    "        image = image.to(device)\n",
    "\n",
    "        optimizer.zero_grad()\n",
    "        outputs = model(image)\n",
    "        loss = criterion(outputs, label)\n",
    "        loss.backward()\n",
    "        optimizer.step()\n",
    "        \n",
    "        count += 1\n",
    "            \n",
    "        \n",
    "    valid_loss, valid_acc = evaluate_on_data(model, validDataLoader)\n",
    "    valid_loss_dirty, valid_acc_dirty = evaluate_on_data(model, validDataLoader, dirty=True)\n",
    "\n",
    "    print(f'Epoch [{epoch+1}/{num_epochs}], Training Loss: {loss.item():.4f}, Valid Loss: {valid_loss}, Valid ACC: {valid_acc}, Dirty Valid Loss: {valid_loss_dirty}, Dirty Valid ACC: {valid_acc_dirty}')\n",
    "    valid_loss_array[epoch] = valid_loss\n",
    "    train_loss_array[epoch] = loss.item()\n",
    "    valid_acc_array[epoch] = valid_acc\n",
    "    valid_loss_dirty_array[epoch] = valid_loss\n",
    "    valid_acc_dirty_array[epoch] = valid_acc\n",
    "\n",
    "\n"
   ]
  },
  {
   "cell_type": "code",
   "execution_count": null,
   "metadata": {},
   "outputs": [],
   "source": []
  },
  {
   "cell_type": "code",
   "execution_count": 20,
   "metadata": {},
   "outputs": [],
   "source": [
    "with open(model_name + '_valid_loss.npy', 'wb') as f:\n",
    "    np.save(f, valid_loss_array)\n",
    "    \n",
    "with open(model_name + '_valid_acc.npy', 'wb') as f:\n",
    "    np.save(f, valid_acc_array)\n",
    "\n",
    "with open(model_name + '_valid_dirty_loss.npy', 'wb') as f:\n",
    "    np.save(f, valid_loss_dirty_array)\n",
    "    \n",
    "with open(model_name + '_valid_dirty_acc.npy', 'wb') as f:\n",
    "    np.save(f, valid_acc_dirty_array)\n",
    "    \n",
    "with open(model_name + '_train.npy', 'wb') as f:\n",
    "    np.save(f, train_loss_array)"
   ]
  },
  {
   "cell_type": "code",
   "execution_count": 21,
   "metadata": {},
   "outputs": [],
   "source": [
    "import matplotlib.pyplot as plt"
   ]
  },
  {
   "cell_type": "code",
   "execution_count": 23,
   "metadata": {},
   "outputs": [
    {
     "data": {
      "text/plain": [
       "[<matplotlib.lines.Line2D at 0x26c07fea510>]"
      ]
     },
     "execution_count": 23,
     "metadata": {},
     "output_type": "execute_result"
    },
    {
     "data": {
      "image/png": "[encoded data removed]",
      "text/plain": [
       "<Figure size 640x480 with 1 Axes>"
      ]
     },
     "metadata": {},
     "output_type": "display_data"
    }
   ],
   "source": [
    "plt.plot(valid_loss_array)"
   ]
  }
 ],
 "metadata": {
  "kernelspec": {
   "display_name": "Python 3.11.1 64-bit",
   "language": "python",
   "name": "python3"
  },
  "language_info": {
   "codemirror_mode": {
    "name": "ipython",
    "version": 3
   },
   "file_extension": ".py",
   "mimetype": "text/x-python",
   "name": "python",
   "nbconvert_exporter": "python",
   "pygments_lexer": "ipython3",
   "version": "3.11.1"
  },
  "vscode": {
   "interpreter": {
    "hash": "8907f5995ab74a6cd5df9da2d2bcd12f57f5b23c9c38358337eeb837f01ad676"
   }
  }
 },
 "nbformat": 4,
 "nbformat_minor": 2
}
