{
 "cells": [
  {
   "cell_type": "code",
   "execution_count": 1,
   "metadata": {},
   "outputs": [],
   "source": [
    "import torchvision\n",
    "from torchvision import models\n",
    "from torchvision.transforms import transforms\n",
    "from tqdm import tqdm\n",
    "import torch\n",
    "import ImageData\n",
    "import numpy as np\n",
    "device = torch.device(\"cuda\" if torch.cuda.is_available() else \"cpu\")\n",
    "import time"
   ]
  },
  {
   "cell_type": "code",
   "execution_count": 2,
   "metadata": {},
   "outputs": [],
   "source": [
    "model_name = \"resnet\"\n",
    "model_image_size = 224\n",
    "# vit = models.vit_l_16(models.ViT_L_16_Weights.IMAGENET1K_V1)"
   ]
  },
  {
   "cell_type": "code",
   "execution_count": 3,
   "metadata": {},
   "outputs": [],
   "source": [
    "class ResNet(torch.nn.Module):\n",
    "    def __init__(self, numClasses: int, softmax:bool = True):\n",
    "        super(ResNet, self).__init__()\n",
    "\n",
    "        self.resnet = torchvision.models.resnet152(weights='DEFAULT')\n",
    "        for param in list(self.resnet.parameters())[:-1]:\n",
    "            param.requires_grad = False\n",
    "\n",
    "        self.resnet.fc = torch.nn.Sequential(\n",
    "            torch.nn.Linear(2048, 512),\n",
    "            torch.nn.ReLU(),\n",
    "            torch.nn.Linear(512, 216),\n",
    "            torch.nn.ReLU(),\n",
    "            torch.nn.Linear(216, 4)\n",
    "        )\n",
    "        \n",
    "        \n",
    "        # for param in self.inceptionBase.parameters():\n",
    "        #     print(param.requires_grad)\n",
    "\n",
    "        self.softmax = torch.nn.Softmax(dim=-1)\n",
    "\n",
    "    def forward(self, x):\n",
    "        out = self.resnet(x)\n",
    "        return out"
   ]
  },
  {
   "cell_type": "code",
   "execution_count": 4,
   "metadata": {},
   "outputs": [
    {
     "name": "stderr",
     "output_type": "stream",
     "text": [
      "Downloading: \"https://download.pytorch.org/models/resnet152-f82ba261.pth\" to C:\\Users\\wiggle_jiggle/.cache\\torch\\hub\\checkpoints\\resnet152-f82ba261.pth\n",
      "100%|██████████| 230M/230M [00:07<00:00, 31.8MB/s] \n"
     ]
    }
   ],
   "source": [
    "model = ResNet(4).to(device)\n",
    "# print(*list(model.children())[:-1])"
   ]
  },
  {
   "cell_type": "code",
   "execution_count": 5,
   "metadata": {},
   "outputs": [],
   "source": [
    "# Loss and optimizer\n",
    "criterion = torch.nn.CrossEntropyLoss()\n",
    "optimizer = torch.optim.Adam(model.parameters(), lr=0.001)"
   ]
  },
  {
   "cell_type": "code",
   "execution_count": 23,
   "metadata": {},
   "outputs": [],
   "source": [
    "batch_size = 16\n",
    "transform = transforms.Compose([transforms.ToTensor(), \n",
    "                                transforms.RandomResizedCrop(size=(model_image_size, model_image_size), antialias=True), \n",
    "                                transforms.Normalize((0.5, 0.5, 0.5), (0.5, 0.5, 0.5))])\n",
    "\n",
    "trainDataLoader, validDataLoader, testDataLoader, unseenDataLoader = ImageData.getImagesDataloaders(\"./ArtiFact/\", transforms = transform, batchSize=batch_size)"
   ]
  },
  {
   "cell_type": "code",
   "execution_count": 17,
   "metadata": {},
   "outputs": [],
   "source": [
    "def evaluate_on_data(model, dataloader, dirty: bool = False):\n",
    "    criterion = torch.nn.CrossEntropyLoss()\n",
    "    with torch.no_grad():\n",
    "        total_loss = 0\n",
    "        \n",
    "        num_correct = 0.0\n",
    "        num_correct_dirty = 0.0\n",
    "\n",
    "        num_samples = 0.0\n",
    "        for data in tqdm(dataloader, desc=\"Eval: \"):\n",
    "            image, label = data\n",
    "            label = label.to(device)\n",
    "            image = image.to(device)\n",
    "            outputs = model(image)\n",
    "            \n",
    "            dirtyLabel = torch.where(label > 1, torch.tensor(1, dtype = torch.int32).to(device), label)\n",
    "\n",
    "            \n",
    "            \n",
    "            loss = criterion(outputs, label)\n",
    "            total_loss += loss.item()\n",
    "            argMax = torch.argmax(outputs, 1)\n",
    "\n",
    "            # print(\"pred\")\n",
    "            # print(outputs)\n",
    "            # print(argMax)\n",
    "            # print(\"gt\")\n",
    "            # print(label)\n",
    "            for i in range(len(label)):\n",
    "                \n",
    "                if label[i] == argMax[i]:\n",
    "                    num_correct += 1\n",
    "\n",
    "                if (dirtyLabel[i] == argMax[i]) or (dirtyLabel[i] == 1 and argMax[i] > 0):\n",
    "                    num_correct_dirty += 1\n",
    "\n",
    "                num_samples += 1\n",
    "                    \n",
    "                \n",
    "                \n",
    "    return total_loss / len(dataloader), num_correct / num_samples, num_correct_dirty / num_samples"
   ]
  },
  {
   "cell_type": "code",
   "execution_count": 8,
   "metadata": {},
   "outputs": [
    {
     "name": "stderr",
     "output_type": "stream",
     "text": [
      "Training:   0%|          | 0/116172 [00:00<?, ?it/s]"
     ]
    },
    {
     "name": "stderr",
     "output_type": "stream",
     "text": [
      "Training: 100%|██████████| 116172/116172 [2:06:07<00:00, 15.35it/s] \n",
      "Eval: 100%|██████████| 6115/6115 [07:45<00:00, 13.13it/s]\n",
      "Eval: 100%|██████████| 6115/6115 [03:26<00:00, 29.62it/s]\n"
     ]
    },
    {
     "name": "stdout",
     "output_type": "stream",
     "text": [
      "Epoch [1/10], Training Loss: 0.9489, Valid Loss: 0.6765317808504682, Valid ACC: 0.7185263932616429, Dirty Valid ACC: 0.7052173201946274\n"
     ]
    },
    {
     "name": "stderr",
     "output_type": "stream",
     "text": [
      "Training: 100%|██████████| 116172/116172 [1:47:47<00:00, 17.96it/s]\n",
      "Eval: 100%|██████████| 6115/6115 [06:18<00:00, 16.15it/s]\n",
      "Eval: 100%|██████████| 6115/6115 [03:26<00:00, 29.62it/s]\n"
     ]
    },
    {
     "name": "stdout",
     "output_type": "stream",
     "text": [
      "Epoch [2/10], Training Loss: 0.7470, Valid Loss: 0.662142679343824, Valid ACC: 0.7268573414564338, Dirty Valid ACC: 0.7194770413378583\n"
     ]
    },
    {
     "name": "stderr",
     "output_type": "stream",
     "text": [
      "Training: 100%|██████████| 116172/116172 [1:44:54<00:00, 18.46it/s]\n",
      "Eval: 100%|██████████| 6115/6115 [06:03<00:00, 16.84it/s]\n",
      "Eval: 100%|██████████| 6115/6115 [03:31<00:00, 28.89it/s]\n"
     ]
    },
    {
     "name": "stdout",
     "output_type": "stream",
     "text": [
      "Epoch [3/10], Training Loss: 0.3358, Valid Loss: 0.6522315822267571, Valid ACC: 0.7332461054094942, Dirty Valid ACC: 0.7278795436889234\n"
     ]
    },
    {
     "name": "stderr",
     "output_type": "stream",
     "text": [
      "Training: 100%|██████████| 116172/116172 [1:42:51<00:00, 18.82it/s]\n",
      "Eval: 100%|██████████| 6115/6115 [05:56<00:00, 17.16it/s]\n",
      "Eval: 100%|██████████| 6115/6115 [03:28<00:00, 29.29it/s]\n"
     ]
    },
    {
     "name": "stdout",
     "output_type": "stream",
     "text": [
      "Epoch [4/10], Training Loss: 0.9662, Valid Loss: 0.6478577030431221, Valid ACC: 0.7352598438074989, Dirty Valid ACC: 0.715551784765098\n"
     ]
    },
    {
     "name": "stderr",
     "output_type": "stream",
     "text": [
      "Training: 100%|██████████| 116172/116172 [1:42:04<00:00, 18.97it/s] \n",
      "Eval: 100%|██████████| 6115/6115 [05:48<00:00, 17.57it/s]\n",
      "Eval: 100%|██████████| 6115/6115 [03:13<00:00, 31.57it/s]\n"
     ]
    },
    {
     "name": "stdout",
     "output_type": "stream",
     "text": [
      "Epoch [5/10], Training Loss: 0.9443, Valid Loss: 0.6430831384190944, Valid ACC: 0.7363024900846383, Dirty Valid ACC: 0.7192930449360101\n"
     ]
    },
    {
     "name": "stderr",
     "output_type": "stream",
     "text": [
      "Training: 100%|██████████| 116172/116172 [1:39:08<00:00, 19.53it/s]\n",
      "Eval: 100%|██████████| 6115/6115 [05:50<00:00, 17.45it/s]\n",
      "Eval: 100%|██████████| 6115/6115 [03:16<00:00, 31.12it/s]\n"
     ]
    },
    {
     "name": "stdout",
     "output_type": "stream",
     "text": [
      "Epoch [6/10], Training Loss: 0.4386, Valid Loss: 0.6474893369322806, Valid ACC: 0.7408615120415423, Dirty Valid ACC: 0.7138344850145153\n"
     ]
    },
    {
     "name": "stderr",
     "output_type": "stream",
     "text": [
      "Training: 100%|██████████| 116172/116172 [1:39:37<00:00, 19.44it/s]\n",
      "Eval: 100%|██████████| 6115/6115 [05:52<00:00, 17.33it/s]\n",
      "Eval: 100%|██████████| 6115/6115 [03:31<00:00, 28.92it/s]\n"
     ]
    },
    {
     "name": "stdout",
     "output_type": "stream",
     "text": [
      "Epoch [7/10], Training Loss: 0.7373, Valid Loss: 0.6378197729148927, Valid ACC: 0.7404526311485464, Dirty Valid ACC: 0.721787218383285\n"
     ]
    },
    {
     "name": "stderr",
     "output_type": "stream",
     "text": [
      "Training: 100%|██████████| 116172/116172 [1:44:31<00:00, 18.52it/s] \n",
      "Eval: 100%|██████████| 6115/6115 [05:56<00:00, 17.16it/s]\n",
      "Eval: 100%|██████████| 6115/6115 [03:17<00:00, 31.03it/s]\n"
     ]
    },
    {
     "name": "stdout",
     "output_type": "stream",
     "text": [
      "Epoch [8/10], Training Loss: 0.9743, Valid Loss: 0.630311694749778, Valid ACC: 0.7439996728952856, Dirty Valid ACC: 0.7205503536819724\n"
     ]
    },
    {
     "name": "stderr",
     "output_type": "stream",
     "text": [
      "Training: 100%|██████████| 116172/116172 [1:42:40<00:00, 18.86it/s]\n",
      "Eval: 100%|██████████| 6115/6115 [05:49<00:00, 17.49it/s]\n",
      "Eval: 100%|██████████| 6115/6115 [03:27<00:00, 29.41it/s]\n"
     ]
    },
    {
     "name": "stdout",
     "output_type": "stream",
     "text": [
      "Epoch [9/10], Training Loss: 1.8805, Valid Loss: 0.6295555192139533, Valid ACC: 0.7455636423109948, Dirty Valid ACC: 0.7205503536819724\n"
     ]
    },
    {
     "name": "stderr",
     "output_type": "stream",
     "text": [
      "Training: 100%|██████████| 116172/116172 [1:37:51<00:00, 19.79it/s] \n",
      "Eval: 100%|██████████| 6115/6115 [05:39<00:00, 18.02it/s]\n",
      "Eval: 100%|██████████| 6115/6115 [03:07<00:00, 32.57it/s]"
     ]
    },
    {
     "name": "stdout",
     "output_type": "stream",
     "text": [
      "Epoch [10/10], Training Loss: 1.5347, Valid Loss: 0.6318216321123299, Valid ACC: 0.7433761295334669, Dirty Valid ACC: 0.7231876354417958\n"
     ]
    },
    {
     "name": "stderr",
     "output_type": "stream",
     "text": [
      "\n"
     ]
    }
   ],
   "source": [
    "num_epochs = 10\n",
    "count = 0\n",
    "valid_loss_array = np.zeros(num_epochs)\n",
    "valid_acc_array = np.zeros(num_epochs)\n",
    "valid_acc_dirty_array = np.zeros(num_epochs)\n",
    "\n",
    "train_loss_array = np.zeros(num_epochs)\n",
    "for epoch in range(num_epochs):\n",
    "    batch_count = 0\n",
    "    for data in tqdm(trainDataLoader, desc=\"Training: \"):\n",
    "        \n",
    "        image, label = data\n",
    "        \n",
    "        label = label.to(device)\n",
    "        image = image.to(device)\n",
    "\n",
    "        optimizer.zero_grad()\n",
    "        outputs = model(image)\n",
    "        loss = criterion(outputs, label)\n",
    "        loss.backward()\n",
    "        optimizer.step()\n",
    "          \n",
    "        count += 1\n",
    "        # print(loss)\n",
    "            \n",
    "        \n",
    "    valid_loss, valid_acc = evaluate_on_data(model, validDataLoader)\n",
    "    _, valid_acc_dirty = evaluate_on_data(model, validDataLoader, dirty=True)\n",
    "\n",
    "    print(f'Epoch [{epoch+1}/{num_epochs}], Training Loss: {loss.item():.4f}, Valid Loss: {valid_loss}, Valid ACC: {valid_acc}, Dirty Valid ACC: {valid_acc_dirty}')\n",
    "    valid_loss_array[epoch] = valid_loss\n",
    "    train_loss_array[epoch] = loss.item()\n",
    "    valid_acc_array[epoch] = valid_acc\n",
    "    valid_acc_dirty_array[epoch] = valid_acc_dirty\n"
   ]
  },
  {
   "cell_type": "code",
   "execution_count": 9,
   "metadata": {},
   "outputs": [],
   "source": [
    "with open(model_name + '_valid_loss.npy', 'wb') as f:\n",
    "    np.save(f, valid_loss_array)\n",
    "    \n",
    "with open(model_name + '_valid_acc.npy', 'wb') as f:\n",
    "    np.save(f, valid_acc_array)\n",
    "\n",
    "with open(model_name + '_valid_dirty_acc.npy', 'wb') as f:\n",
    "    np.save(f, valid_acc_dirty_array)\n",
    "    \n",
    "with open(model_name + '_train.npy', 'wb') as f:\n",
    "    np.save(f, train_loss_array)"
   ]
  },
  {
   "cell_type": "code",
   "execution_count": 10,
   "metadata": {},
   "outputs": [],
   "source": [
    "import matplotlib.pyplot as plt"
   ]
  },
  {
   "cell_type": "code",
   "execution_count": 11,
   "metadata": {},
   "outputs": [
    {
     "data": {
      "text/plain": [
       "[<matplotlib.lines.Line2D at 0x2678913ee10>]"
      ]
     },
     "execution_count": 11,
     "metadata": {},
     "output_type": "execute_result"
    },
    {
     "data": {
      "image/png": "[encoded data removed]",
      "text/plain": [
       "<Figure size 640x480 with 1 Axes>"
      ]
     },
     "metadata": {},
     "output_type": "display_data"
    }
   ],
   "source": [
    "plt.plot(train_loss_array)"
   ]
  },
  {
   "cell_type": "code",
   "execution_count": 13,
   "metadata": {},
   "outputs": [
    {
     "data": {
      "text/plain": [
       "[<matplotlib.lines.Line2D at 0x2684b1aaf10>]"
      ]
     },
     "execution_count": 13,
     "metadata": {},
     "output_type": "execute_result"
    },
    {
     "data": {
      "image/png": "[encoded data removed]",
      "text/plain": [
       "<Figure size 640x480 with 2 Axes>"
      ]
     },
     "metadata": {},
     "output_type": "display_data"
    }
   ],
   "source": [
    "figure, axis = plt.subplots(1,2)\n",
    "axis[0].plot(valid_loss_array)\n",
    "axis[1].plot(valid_acc_dirty_array)"
   ]
  },
  {
   "cell_type": "code",
   "execution_count": 19,
   "metadata": {},
   "outputs": [
    {
     "name": "stderr",
     "output_type": "stream",
     "text": [
      "Eval: 100%|██████████| 6115/6115 [06:54<00:00, 14.74it/s]\n"
     ]
    },
    {
     "data": {
      "text/plain": [
       "0.7848877621948727"
      ]
     },
     "execution_count": 19,
     "metadata": {},
     "output_type": "execute_result"
    }
   ],
   "source": [
    "_,_, valid_acc_dirty = evaluate_on_data(model, validDataLoader, dirty=True)\n",
    "valid_acc_dirty"
   ]
  },
  {
   "cell_type": "code",
   "execution_count": 20,
   "metadata": {},
   "outputs": [
    {
     "name": "stderr",
     "output_type": "stream",
     "text": [
      "Eval: 100%|██████████| 33761/33761 [1:34:05<00:00,  5.98it/s]"
     ]
    },
    {
     "name": "stdout",
     "output_type": "stream",
     "text": [
      "Test Loss: 0.7041640547670102, Test ACC: 0.7057603874321512, Dirty Test ACC: 0.7488762838503291\n"
     ]
    },
    {
     "name": "stderr",
     "output_type": "stream",
     "text": [
      "\n"
     ]
    }
   ],
   "source": [
    "test_loss, test_acc, test_acc_dirty = evaluate_on_data(model, testDataLoader, dirty=True)\n",
    "print(f'Test Loss: {test_loss}, Test ACC: {test_acc}, Dirty Test ACC: {test_acc_dirty}')"
   ]
  },
  {
   "cell_type": "code",
   "execution_count": 24,
   "metadata": {},
   "outputs": [
    {
     "name": "stderr",
     "output_type": "stream",
     "text": [
      "Eval: 100%|██████████| 1569/1569 [00:53<00:00, 29.32it/s]"
     ]
    },
    {
     "name": "stdout",
     "output_type": "stream",
     "text": [
      "Unseen Loss: 1.6271382283070348, Unseen ACC: 0.3303315269365636, Dirty Unseen ACC: 0.5115157794070768\n"
     ]
    },
    {
     "name": "stderr",
     "output_type": "stream",
     "text": [
      "\n"
     ]
    }
   ],
   "source": [
    "unseen_loss, unseen_acc, unseen_acc_dirty = evaluate_on_data(model, unseenDataLoader, dirty=True)\n",
    "print(f'Unseen Loss: {unseen_loss}, Unseen ACC: {unseen_acc}, Dirty Unseen ACC: {unseen_acc_dirty}')"
   ]
  }
 ],
 "metadata": {
  "kernelspec": {
   "display_name": "Python 3.11.1 64-bit",
   "language": "python",
   "name": "python3"
  },
  "language_info": {
   "codemirror_mode": {
    "name": "ipython",
    "version": 3
   },
   "file_extension": ".py",
   "mimetype": "text/x-python",
   "name": "python",
   "nbconvert_exporter": "python",
   "pygments_lexer": "ipython3",
   "version": "3.11.9"
  },
  "vscode": {
   "interpreter": {
    "hash": "8907f5995ab74a6cd5df9da2d2bcd12f57f5b23c9c38358337eeb837f01ad676"
   }
  }
 },
 "nbformat": 4,
 "nbformat_minor": 2
}
